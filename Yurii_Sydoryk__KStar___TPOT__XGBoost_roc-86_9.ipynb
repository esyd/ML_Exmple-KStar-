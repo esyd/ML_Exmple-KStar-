{
 "cells": [
  {
   "cell_type": "code",
   "execution_count": null,
   "metadata": {},
   "outputs": [],
   "source": []
  },
  {
   "cell_type": "code",
   "execution_count": 1,
   "metadata": {},
   "outputs": [
    {
     "name": "stdout",
     "output_type": "stream",
     "text": [
      "Using matplotlib backend: TkAgg\n"
     ]
    }
   ],
   "source": [
    "import numpy as np\n",
    "import pandas as pd\n",
    "import matplotlib.pyplot as plt\n",
    "plt.style.use('ggplot')\n",
    "%matplotlib"
   ]
  },
  {
   "cell_type": "code",
   "execution_count": 3,
   "metadata": {},
   "outputs": [
    {
     "data": {
      "text/html": [
       "<div>\n",
       "<style scoped>\n",
       "    .dataframe tbody tr th:only-of-type {\n",
       "        vertical-align: middle;\n",
       "    }\n",
       "\n",
       "    .dataframe tbody tr th {\n",
       "        vertical-align: top;\n",
       "    }\n",
       "\n",
       "    .dataframe thead th {\n",
       "        text-align: right;\n",
       "    }\n",
       "</style>\n",
       "<table border=\"1\" class=\"dataframe\">\n",
       "  <thead>\n",
       "    <tr style=\"text-align: right;\">\n",
       "      <th></th>\n",
       "      <th>ID</th>\n",
       "      <th>MONTH_NUM_FROM_EVENT</th>\n",
       "      <th>F1</th>\n",
       "      <th>F2</th>\n",
       "      <th>F3</th>\n",
       "      <th>F4</th>\n",
       "      <th>F5</th>\n",
       "      <th>F6</th>\n",
       "      <th>F7</th>\n",
       "      <th>F8</th>\n",
       "      <th>...</th>\n",
       "      <th>F38</th>\n",
       "      <th>F39</th>\n",
       "      <th>F40</th>\n",
       "      <th>F41</th>\n",
       "      <th>F42</th>\n",
       "      <th>F43</th>\n",
       "      <th>F44</th>\n",
       "      <th>F45</th>\n",
       "      <th>F46</th>\n",
       "      <th>F47</th>\n",
       "    </tr>\n",
       "  </thead>\n",
       "  <tbody>\n",
       "    <tr>\n",
       "      <th>0</th>\n",
       "      <td>2</td>\n",
       "      <td>1</td>\n",
       "      <td>4.0</td>\n",
       "      <td>133.0</td>\n",
       "      <td>28.0</td>\n",
       "      <td>NaN</td>\n",
       "      <td>0.0</td>\n",
       "      <td>NaN</td>\n",
       "      <td>518.98</td>\n",
       "      <td>2.60</td>\n",
       "      <td>...</td>\n",
       "      <td>89.0</td>\n",
       "      <td>137.0</td>\n",
       "      <td>0.0</td>\n",
       "      <td>2.0</td>\n",
       "      <td>2.0</td>\n",
       "      <td>1.0</td>\n",
       "      <td>0.0</td>\n",
       "      <td>0.0</td>\n",
       "      <td>2.0</td>\n",
       "      <td>958.0</td>\n",
       "    </tr>\n",
       "    <tr>\n",
       "      <th>1</th>\n",
       "      <td>2</td>\n",
       "      <td>2</td>\n",
       "      <td>NaN</td>\n",
       "      <td>132.0</td>\n",
       "      <td>29.0</td>\n",
       "      <td>24.0</td>\n",
       "      <td>0.0</td>\n",
       "      <td>578.35</td>\n",
       "      <td>574.98</td>\n",
       "      <td>2.80</td>\n",
       "      <td>...</td>\n",
       "      <td>141.0</td>\n",
       "      <td>93.0</td>\n",
       "      <td>NaN</td>\n",
       "      <td>2.0</td>\n",
       "      <td>3.0</td>\n",
       "      <td>1.0</td>\n",
       "      <td>0.0</td>\n",
       "      <td>0.0</td>\n",
       "      <td>2.0</td>\n",
       "      <td>936.0</td>\n",
       "    </tr>\n",
       "    <tr>\n",
       "      <th>2</th>\n",
       "      <td>2</td>\n",
       "      <td>3</td>\n",
       "      <td>NaN</td>\n",
       "      <td>131.0</td>\n",
       "      <td>NaN</td>\n",
       "      <td>29.0</td>\n",
       "      <td>0.0</td>\n",
       "      <td>430.13</td>\n",
       "      <td>426.32</td>\n",
       "      <td>0.93</td>\n",
       "      <td>...</td>\n",
       "      <td>128.0</td>\n",
       "      <td>114.0</td>\n",
       "      <td>1.0</td>\n",
       "      <td>3.0</td>\n",
       "      <td>3.0</td>\n",
       "      <td>1.0</td>\n",
       "      <td>0.0</td>\n",
       "      <td>0.0</td>\n",
       "      <td>1.0</td>\n",
       "      <td>919.0</td>\n",
       "    </tr>\n",
       "    <tr>\n",
       "      <th>3</th>\n",
       "      <td>2</td>\n",
       "      <td>4</td>\n",
       "      <td>4.0</td>\n",
       "      <td>130.0</td>\n",
       "      <td>31.0</td>\n",
       "      <td>7.0</td>\n",
       "      <td>NaN</td>\n",
       "      <td>479.33</td>\n",
       "      <td>477.13</td>\n",
       "      <td>0.00</td>\n",
       "      <td>...</td>\n",
       "      <td>3.0</td>\n",
       "      <td>137.0</td>\n",
       "      <td>0.0</td>\n",
       "      <td>3.0</td>\n",
       "      <td>3.0</td>\n",
       "      <td>1.0</td>\n",
       "      <td>0.0</td>\n",
       "      <td>0.0</td>\n",
       "      <td>3.0</td>\n",
       "      <td>618.0</td>\n",
       "    </tr>\n",
       "    <tr>\n",
       "      <th>4</th>\n",
       "      <td>2</td>\n",
       "      <td>5</td>\n",
       "      <td>8.0</td>\n",
       "      <td>129.0</td>\n",
       "      <td>26.0</td>\n",
       "      <td>2.0</td>\n",
       "      <td>0.0</td>\n",
       "      <td>358.12</td>\n",
       "      <td>339.03</td>\n",
       "      <td>15.28</td>\n",
       "      <td>...</td>\n",
       "      <td>2.0</td>\n",
       "      <td>NaN</td>\n",
       "      <td>0.0</td>\n",
       "      <td>4.0</td>\n",
       "      <td>4.0</td>\n",
       "      <td>2.0</td>\n",
       "      <td>NaN</td>\n",
       "      <td>0.0</td>\n",
       "      <td>2.0</td>\n",
       "      <td>NaN</td>\n",
       "    </tr>\n",
       "  </tbody>\n",
       "</table>\n",
       "<p>5 rows × 48 columns</p>\n",
       "</div>"
      ],
      "text/plain": [
       "   ID  MONTH_NUM_FROM_EVENT   F1     F2    F3    F4   F5      F6      F7  \\\n",
       "0   2                     1  4.0  133.0  28.0   NaN  0.0     NaN  518.98   \n",
       "1   2                     2  NaN  132.0  29.0  24.0  0.0  578.35  574.98   \n",
       "2   2                     3  NaN  131.0   NaN  29.0  0.0  430.13  426.32   \n",
       "3   2                     4  4.0  130.0  31.0   7.0  NaN  479.33  477.13   \n",
       "4   2                     5  8.0  129.0  26.0   2.0  0.0  358.12  339.03   \n",
       "\n",
       "      F8  ...      F38    F39  F40  F41  F42  F43  F44  F45  F46    F47  \n",
       "0   2.60  ...     89.0  137.0  0.0  2.0  2.0  1.0  0.0  0.0  2.0  958.0  \n",
       "1   2.80  ...    141.0   93.0  NaN  2.0  3.0  1.0  0.0  0.0  2.0  936.0  \n",
       "2   0.93  ...    128.0  114.0  1.0  3.0  3.0  1.0  0.0  0.0  1.0  919.0  \n",
       "3   0.00  ...      3.0  137.0  0.0  3.0  3.0  1.0  0.0  0.0  3.0  618.0  \n",
       "4  15.28  ...      2.0    NaN  0.0  4.0  4.0  2.0  NaN  0.0  2.0    NaN  \n",
       "\n",
       "[5 rows x 48 columns]"
      ]
     },
     "execution_count": 3,
     "metadata": {},
     "output_type": "execute_result"
    }
   ],
   "source": [
    "df = pd.read_csv('Input/BigDataSchool_features.csv')\n",
    "df.head()"
   ]
  },
  {
   "cell_type": "code",
   "execution_count": 4,
   "metadata": {},
   "outputs": [
    {
     "data": {
      "text/html": [
       "<div>\n",
       "<style scoped>\n",
       "    .dataframe tbody tr th:only-of-type {\n",
       "        vertical-align: middle;\n",
       "    }\n",
       "\n",
       "    .dataframe tbody tr th {\n",
       "        vertical-align: top;\n",
       "    }\n",
       "\n",
       "    .dataframe thead th {\n",
       "        text-align: right;\n",
       "    }\n",
       "</style>\n",
       "<table border=\"1\" class=\"dataframe\">\n",
       "  <thead>\n",
       "    <tr style=\"text-align: right;\">\n",
       "      <th></th>\n",
       "      <th>ID</th>\n",
       "      <th>TARGET</th>\n",
       "    </tr>\n",
       "  </thead>\n",
       "  <tbody>\n",
       "    <tr>\n",
       "      <th>0</th>\n",
       "      <td>2</td>\n",
       "      <td>0.0</td>\n",
       "    </tr>\n",
       "    <tr>\n",
       "      <th>1</th>\n",
       "      <td>4</td>\n",
       "      <td>0.0</td>\n",
       "    </tr>\n",
       "  </tbody>\n",
       "</table>\n",
       "</div>"
      ],
      "text/plain": [
       "   ID  TARGET\n",
       "0   2     0.0\n",
       "1   4     0.0"
      ]
     },
     "execution_count": 4,
     "metadata": {},
     "output_type": "execute_result"
    }
   ],
   "source": [
    "dftrain = pd.read_csv('Input/BigDataSchool_train_set.csv')\n",
    "dftrain.head(2)"
   ]
  },
  {
   "cell_type": "code",
   "execution_count": 5,
   "metadata": {},
   "outputs": [
    {
     "data": {
      "text/html": [
       "<div>\n",
       "<style scoped>\n",
       "    .dataframe tbody tr th:only-of-type {\n",
       "        vertical-align: middle;\n",
       "    }\n",
       "\n",
       "    .dataframe tbody tr th {\n",
       "        vertical-align: top;\n",
       "    }\n",
       "\n",
       "    .dataframe thead th {\n",
       "        text-align: right;\n",
       "    }\n",
       "</style>\n",
       "<table border=\"1\" class=\"dataframe\">\n",
       "  <thead>\n",
       "    <tr style=\"text-align: right;\">\n",
       "      <th></th>\n",
       "      <th>ID</th>\n",
       "      <th>TARGET</th>\n",
       "    </tr>\n",
       "  </thead>\n",
       "  <tbody>\n",
       "    <tr>\n",
       "      <th>0</th>\n",
       "      <td>1</td>\n",
       "      <td>NaN</td>\n",
       "    </tr>\n",
       "    <tr>\n",
       "      <th>1</th>\n",
       "      <td>3</td>\n",
       "      <td>NaN</td>\n",
       "    </tr>\n",
       "  </tbody>\n",
       "</table>\n",
       "</div>"
      ],
      "text/plain": [
       "   ID  TARGET\n",
       "0   1     NaN\n",
       "1   3     NaN"
      ]
     },
     "execution_count": 5,
     "metadata": {},
     "output_type": "execute_result"
    }
   ],
   "source": [
    "dftest = pd.read_csv('Input/BigDataSchool_test_set.csv')\n",
    "dftest.head(2)"
   ]
  },
  {
   "cell_type": "code",
   "execution_count": 6,
   "metadata": {},
   "outputs": [
    {
     "data": {
      "text/html": [
       "<div>\n",
       "<style scoped>\n",
       "    .dataframe tbody tr th:only-of-type {\n",
       "        vertical-align: middle;\n",
       "    }\n",
       "\n",
       "    .dataframe tbody tr th {\n",
       "        vertical-align: top;\n",
       "    }\n",
       "\n",
       "    .dataframe thead th {\n",
       "        text-align: right;\n",
       "    }\n",
       "</style>\n",
       "<table border=\"1\" class=\"dataframe\">\n",
       "  <thead>\n",
       "    <tr style=\"text-align: right;\">\n",
       "      <th></th>\n",
       "      <th>ID</th>\n",
       "      <th>MONTH_NUM_FROM_EVENT</th>\n",
       "      <th>F1</th>\n",
       "      <th>F2</th>\n",
       "      <th>F3</th>\n",
       "      <th>F4</th>\n",
       "      <th>F5</th>\n",
       "      <th>F6</th>\n",
       "      <th>F7</th>\n",
       "      <th>F8</th>\n",
       "      <th>...</th>\n",
       "      <th>F38</th>\n",
       "      <th>F39</th>\n",
       "      <th>F40</th>\n",
       "      <th>F41</th>\n",
       "      <th>F42</th>\n",
       "      <th>F43</th>\n",
       "      <th>F44</th>\n",
       "      <th>F45</th>\n",
       "      <th>F46</th>\n",
       "      <th>F47</th>\n",
       "    </tr>\n",
       "  </thead>\n",
       "  <tbody>\n",
       "    <tr>\n",
       "      <th>103168</th>\n",
       "      <td>19680</td>\n",
       "      <td>5</td>\n",
       "      <td>17.0</td>\n",
       "      <td>119.0</td>\n",
       "      <td>28.0</td>\n",
       "      <td>30.0</td>\n",
       "      <td>NaN</td>\n",
       "      <td>279.38</td>\n",
       "      <td>267.50</td>\n",
       "      <td>9.63</td>\n",
       "      <td>...</td>\n",
       "      <td>49.0</td>\n",
       "      <td>NaN</td>\n",
       "      <td>2.0</td>\n",
       "      <td>4.0</td>\n",
       "      <td>5.0</td>\n",
       "      <td>0.0</td>\n",
       "      <td>2.0</td>\n",
       "      <td>0.0</td>\n",
       "      <td>1.0</td>\n",
       "      <td>8401.0</td>\n",
       "    </tr>\n",
       "    <tr>\n",
       "      <th>103169</th>\n",
       "      <td>19680</td>\n",
       "      <td>6</td>\n",
       "      <td>17.0</td>\n",
       "      <td>118.0</td>\n",
       "      <td>28.0</td>\n",
       "      <td>31.0</td>\n",
       "      <td>0.0</td>\n",
       "      <td>206.20</td>\n",
       "      <td>195.07</td>\n",
       "      <td>10.80</td>\n",
       "      <td>...</td>\n",
       "      <td>40.0</td>\n",
       "      <td>125.0</td>\n",
       "      <td>0.0</td>\n",
       "      <td>4.0</td>\n",
       "      <td>5.0</td>\n",
       "      <td>0.0</td>\n",
       "      <td>2.0</td>\n",
       "      <td>0.0</td>\n",
       "      <td>1.0</td>\n",
       "      <td>4669.0</td>\n",
       "    </tr>\n",
       "  </tbody>\n",
       "</table>\n",
       "<p>2 rows × 48 columns</p>\n",
       "</div>"
      ],
      "text/plain": [
       "           ID  MONTH_NUM_FROM_EVENT    F1     F2    F3    F4   F5      F6  \\\n",
       "103168  19680                     5  17.0  119.0  28.0  30.0  NaN  279.38   \n",
       "103169  19680                     6  17.0  118.0  28.0  31.0  0.0  206.20   \n",
       "\n",
       "            F7     F8   ...     F38    F39  F40  F41  F42  F43  F44  F45  F46  \\\n",
       "103168  267.50   9.63   ...    49.0    NaN  2.0  4.0  5.0  0.0  2.0  0.0  1.0   \n",
       "103169  195.07  10.80   ...    40.0  125.0  0.0  4.0  5.0  0.0  2.0  0.0  1.0   \n",
       "\n",
       "           F47  \n",
       "103168  8401.0  \n",
       "103169  4669.0  \n",
       "\n",
       "[2 rows x 48 columns]"
      ]
     },
     "execution_count": 6,
     "metadata": {},
     "output_type": "execute_result"
    }
   ],
   "source": [
    "df.tail(2)"
   ]
  },
  {
   "cell_type": "code",
   "execution_count": 7,
   "metadata": {},
   "outputs": [
    {
     "data": {
      "text/html": [
       "<div>\n",
       "<style scoped>\n",
       "    .dataframe tbody tr th:only-of-type {\n",
       "        vertical-align: middle;\n",
       "    }\n",
       "\n",
       "    .dataframe tbody tr th {\n",
       "        vertical-align: top;\n",
       "    }\n",
       "\n",
       "    .dataframe thead th {\n",
       "        text-align: right;\n",
       "    }\n",
       "</style>\n",
       "<table border=\"1\" class=\"dataframe\">\n",
       "  <thead>\n",
       "    <tr style=\"text-align: right;\">\n",
       "      <th></th>\n",
       "      <th>ID</th>\n",
       "      <th>MONTH_NUM_FROM_EVENT</th>\n",
       "      <th>F1</th>\n",
       "      <th>F2</th>\n",
       "      <th>F3</th>\n",
       "      <th>F4</th>\n",
       "      <th>F5</th>\n",
       "      <th>F6</th>\n",
       "      <th>F7</th>\n",
       "      <th>F8</th>\n",
       "      <th>...</th>\n",
       "      <th>F38</th>\n",
       "      <th>F39</th>\n",
       "      <th>F40</th>\n",
       "      <th>F41</th>\n",
       "      <th>F42</th>\n",
       "      <th>F43</th>\n",
       "      <th>F44</th>\n",
       "      <th>F45</th>\n",
       "      <th>F46</th>\n",
       "      <th>F47</th>\n",
       "    </tr>\n",
       "  </thead>\n",
       "  <tbody>\n",
       "    <tr>\n",
       "      <th>count</th>\n",
       "      <td>103170.000000</td>\n",
       "      <td>103170.000000</td>\n",
       "      <td>99322.000000</td>\n",
       "      <td>98022.000000</td>\n",
       "      <td>98100.000000</td>\n",
       "      <td>97964.000000</td>\n",
       "      <td>98015.000000</td>\n",
       "      <td>98115.000000</td>\n",
       "      <td>97866.000000</td>\n",
       "      <td>98069.000000</td>\n",
       "      <td>...</td>\n",
       "      <td>88037.000000</td>\n",
       "      <td>82932.000000</td>\n",
       "      <td>82865.000000</td>\n",
       "      <td>83006.000000</td>\n",
       "      <td>82987.000000</td>\n",
       "      <td>78866.000000</td>\n",
       "      <td>78885.000000</td>\n",
       "      <td>78888.000000</td>\n",
       "      <td>81703.000000</td>\n",
       "      <td>81815.000000</td>\n",
       "    </tr>\n",
       "    <tr>\n",
       "      <th>mean</th>\n",
       "      <td>10305.461413</td>\n",
       "      <td>3.500000</td>\n",
       "      <td>12.070579</td>\n",
       "      <td>72.994440</td>\n",
       "      <td>21.144536</td>\n",
       "      <td>7.056194</td>\n",
       "      <td>0.037555</td>\n",
       "      <td>414.647704</td>\n",
       "      <td>399.512570</td>\n",
       "      <td>10.461263</td>\n",
       "      <td>...</td>\n",
       "      <td>46.166123</td>\n",
       "      <td>104.848671</td>\n",
       "      <td>0.902552</td>\n",
       "      <td>1.686505</td>\n",
       "      <td>2.446130</td>\n",
       "      <td>0.726321</td>\n",
       "      <td>0.653521</td>\n",
       "      <td>0.069174</td>\n",
       "      <td>1.284274</td>\n",
       "      <td>1726.473837</td>\n",
       "    </tr>\n",
       "    <tr>\n",
       "      <th>std</th>\n",
       "      <td>5499.378673</td>\n",
       "      <td>1.707833</td>\n",
       "      <td>6.562628</td>\n",
       "      <td>49.410293</td>\n",
       "      <td>11.088281</td>\n",
       "      <td>10.995399</td>\n",
       "      <td>0.190120</td>\n",
       "      <td>571.226948</td>\n",
       "      <td>563.675906</td>\n",
       "      <td>31.843899</td>\n",
       "      <td>...</td>\n",
       "      <td>66.037511</td>\n",
       "      <td>39.111542</td>\n",
       "      <td>1.272121</td>\n",
       "      <td>1.755867</td>\n",
       "      <td>2.086176</td>\n",
       "      <td>0.846539</td>\n",
       "      <td>0.691536</td>\n",
       "      <td>0.253751</td>\n",
       "      <td>1.027167</td>\n",
       "      <td>4017.886519</td>\n",
       "    </tr>\n",
       "    <tr>\n",
       "      <th>min</th>\n",
       "      <td>1.000000</td>\n",
       "      <td>1.000000</td>\n",
       "      <td>-1.000000</td>\n",
       "      <td>0.000000</td>\n",
       "      <td>0.000000</td>\n",
       "      <td>0.000000</td>\n",
       "      <td>0.000000</td>\n",
       "      <td>0.000000</td>\n",
       "      <td>0.000000</td>\n",
       "      <td>0.000000</td>\n",
       "      <td>...</td>\n",
       "      <td>1.000000</td>\n",
       "      <td>0.000000</td>\n",
       "      <td>0.000000</td>\n",
       "      <td>0.000000</td>\n",
       "      <td>0.000000</td>\n",
       "      <td>0.000000</td>\n",
       "      <td>0.000000</td>\n",
       "      <td>0.000000</td>\n",
       "      <td>1.000000</td>\n",
       "      <td>1.000000</td>\n",
       "    </tr>\n",
       "    <tr>\n",
       "      <th>25%</th>\n",
       "      <td>5808.000000</td>\n",
       "      <td>2.000000</td>\n",
       "      <td>6.000000</td>\n",
       "      <td>31.000000</td>\n",
       "      <td>13.000000</td>\n",
       "      <td>0.000000</td>\n",
       "      <td>0.000000</td>\n",
       "      <td>26.670000</td>\n",
       "      <td>21.572500</td>\n",
       "      <td>0.000000</td>\n",
       "      <td>...</td>\n",
       "      <td>13.000000</td>\n",
       "      <td>86.000000</td>\n",
       "      <td>0.000000</td>\n",
       "      <td>0.000000</td>\n",
       "      <td>1.000000</td>\n",
       "      <td>0.000000</td>\n",
       "      <td>0.000000</td>\n",
       "      <td>0.000000</td>\n",
       "      <td>1.000000</td>\n",
       "      <td>258.000000</td>\n",
       "    </tr>\n",
       "    <tr>\n",
       "      <th>50%</th>\n",
       "      <td>10431.000000</td>\n",
       "      <td>3.500000</td>\n",
       "      <td>10.000000</td>\n",
       "      <td>56.000000</td>\n",
       "      <td>27.000000</td>\n",
       "      <td>0.000000</td>\n",
       "      <td>0.000000</td>\n",
       "      <td>218.000000</td>\n",
       "      <td>201.515000</td>\n",
       "      <td>0.820000</td>\n",
       "      <td>...</td>\n",
       "      <td>40.000000</td>\n",
       "      <td>112.000000</td>\n",
       "      <td>0.000000</td>\n",
       "      <td>1.000000</td>\n",
       "      <td>2.000000</td>\n",
       "      <td>0.000000</td>\n",
       "      <td>1.000000</td>\n",
       "      <td>0.000000</td>\n",
       "      <td>1.000000</td>\n",
       "      <td>559.000000</td>\n",
       "    </tr>\n",
       "    <tr>\n",
       "      <th>75%</th>\n",
       "      <td>15018.000000</td>\n",
       "      <td>5.000000</td>\n",
       "      <td>17.000000</td>\n",
       "      <td>121.000000</td>\n",
       "      <td>30.000000</td>\n",
       "      <td>12.000000</td>\n",
       "      <td>0.000000</td>\n",
       "      <td>582.170000</td>\n",
       "      <td>558.725000</td>\n",
       "      <td>7.520000</td>\n",
       "      <td>...</td>\n",
       "      <td>64.000000</td>\n",
       "      <td>131.000000</td>\n",
       "      <td>2.000000</td>\n",
       "      <td>3.000000</td>\n",
       "      <td>4.000000</td>\n",
       "      <td>1.000000</td>\n",
       "      <td>1.000000</td>\n",
       "      <td>0.000000</td>\n",
       "      <td>1.000000</td>\n",
       "      <td>1420.000000</td>\n",
       "    </tr>\n",
       "    <tr>\n",
       "      <th>max</th>\n",
       "      <td>19681.000000</td>\n",
       "      <td>6.000000</td>\n",
       "      <td>25.000000</td>\n",
       "      <td>203.000000</td>\n",
       "      <td>31.000000</td>\n",
       "      <td>31.000000</td>\n",
       "      <td>1.000000</td>\n",
       "      <td>10402.770000</td>\n",
       "      <td>10384.370000</td>\n",
       "      <td>1941.920000</td>\n",
       "      <td>...</td>\n",
       "      <td>12038.000000</td>\n",
       "      <td>216.000000</td>\n",
       "      <td>10.000000</td>\n",
       "      <td>11.000000</td>\n",
       "      <td>13.000000</td>\n",
       "      <td>5.000000</td>\n",
       "      <td>2.000000</td>\n",
       "      <td>1.000000</td>\n",
       "      <td>106.000000</td>\n",
       "      <td>203006.000000</td>\n",
       "    </tr>\n",
       "  </tbody>\n",
       "</table>\n",
       "<p>8 rows × 48 columns</p>\n",
       "</div>"
      ],
      "text/plain": [
       "                  ID  MONTH_NUM_FROM_EVENT            F1            F2  \\\n",
       "count  103170.000000         103170.000000  99322.000000  98022.000000   \n",
       "mean    10305.461413              3.500000     12.070579     72.994440   \n",
       "std      5499.378673              1.707833      6.562628     49.410293   \n",
       "min         1.000000              1.000000     -1.000000      0.000000   \n",
       "25%      5808.000000              2.000000      6.000000     31.000000   \n",
       "50%     10431.000000              3.500000     10.000000     56.000000   \n",
       "75%     15018.000000              5.000000     17.000000    121.000000   \n",
       "max     19681.000000              6.000000     25.000000    203.000000   \n",
       "\n",
       "                 F3            F4            F5            F6            F7  \\\n",
       "count  98100.000000  97964.000000  98015.000000  98115.000000  97866.000000   \n",
       "mean      21.144536      7.056194      0.037555    414.647704    399.512570   \n",
       "std       11.088281     10.995399      0.190120    571.226948    563.675906   \n",
       "min        0.000000      0.000000      0.000000      0.000000      0.000000   \n",
       "25%       13.000000      0.000000      0.000000     26.670000     21.572500   \n",
       "50%       27.000000      0.000000      0.000000    218.000000    201.515000   \n",
       "75%       30.000000     12.000000      0.000000    582.170000    558.725000   \n",
       "max       31.000000     31.000000      1.000000  10402.770000  10384.370000   \n",
       "\n",
       "                 F8      ...                 F38           F39           F40  \\\n",
       "count  98069.000000      ...        88037.000000  82932.000000  82865.000000   \n",
       "mean      10.461263      ...           46.166123    104.848671      0.902552   \n",
       "std       31.843899      ...           66.037511     39.111542      1.272121   \n",
       "min        0.000000      ...            1.000000      0.000000      0.000000   \n",
       "25%        0.000000      ...           13.000000     86.000000      0.000000   \n",
       "50%        0.820000      ...           40.000000    112.000000      0.000000   \n",
       "75%        7.520000      ...           64.000000    131.000000      2.000000   \n",
       "max     1941.920000      ...        12038.000000    216.000000     10.000000   \n",
       "\n",
       "                F41           F42           F43           F44           F45  \\\n",
       "count  83006.000000  82987.000000  78866.000000  78885.000000  78888.000000   \n",
       "mean       1.686505      2.446130      0.726321      0.653521      0.069174   \n",
       "std        1.755867      2.086176      0.846539      0.691536      0.253751   \n",
       "min        0.000000      0.000000      0.000000      0.000000      0.000000   \n",
       "25%        0.000000      1.000000      0.000000      0.000000      0.000000   \n",
       "50%        1.000000      2.000000      0.000000      1.000000      0.000000   \n",
       "75%        3.000000      4.000000      1.000000      1.000000      0.000000   \n",
       "max       11.000000     13.000000      5.000000      2.000000      1.000000   \n",
       "\n",
       "                F46            F47  \n",
       "count  81703.000000   81815.000000  \n",
       "mean       1.284274    1726.473837  \n",
       "std        1.027167    4017.886519  \n",
       "min        1.000000       1.000000  \n",
       "25%        1.000000     258.000000  \n",
       "50%        1.000000     559.000000  \n",
       "75%        1.000000    1420.000000  \n",
       "max      106.000000  203006.000000  \n",
       "\n",
       "[8 rows x 48 columns]"
      ]
     },
     "execution_count": 7,
     "metadata": {},
     "output_type": "execute_result"
    }
   ],
   "source": [
    "df.describe()"
   ]
  },
  {
   "cell_type": "code",
   "execution_count": 8,
   "metadata": {},
   "outputs": [
    {
     "name": "stdout",
     "output_type": "stream",
     "text": [
      "<class 'pandas.core.frame.DataFrame'>\n",
      "RangeIndex: 103170 entries, 0 to 103169\n",
      "Data columns (total 48 columns):\n",
      "ID                      103170 non-null int64\n",
      "MONTH_NUM_FROM_EVENT    103170 non-null int64\n",
      "F1                      99322 non-null float64\n",
      "F2                      98022 non-null float64\n",
      "F3                      98100 non-null float64\n",
      "F4                      97964 non-null float64\n",
      "F5                      98015 non-null float64\n",
      "F6                      98115 non-null float64\n",
      "F7                      97866 non-null float64\n",
      "F8                      98069 non-null float64\n",
      "F9                      98027 non-null float64\n",
      "F10                     97965 non-null float64\n",
      "F11                     98033 non-null float64\n",
      "F12                     97928 non-null float64\n",
      "F13                     97974 non-null float64\n",
      "F14                     98161 non-null float64\n",
      "F15                     98005 non-null float64\n",
      "F16                     97966 non-null float64\n",
      "F17                     97987 non-null float64\n",
      "F18                     98172 non-null float64\n",
      "F19                     98089 non-null float64\n",
      "F20                     97939 non-null float64\n",
      "F21                     98202 non-null float64\n",
      "F22                     98091 non-null float64\n",
      "F23                     0 non-null float64\n",
      "F24                     98073 non-null float64\n",
      "F26                     98053 non-null float64\n",
      "F27                     98013 non-null float64\n",
      "F28                     97787 non-null float64\n",
      "F29                     98094 non-null float64\n",
      "F30                     98093 non-null float64\n",
      "F31                     98012 non-null float64\n",
      "F32                     98020 non-null float64\n",
      "F33                     33034 non-null float64\n",
      "F34                     33115 non-null float64\n",
      "F35                     85600 non-null float64\n",
      "F36                     85729 non-null float64\n",
      "F37                     87999 non-null float64\n",
      "F38                     88037 non-null float64\n",
      "F39                     82932 non-null float64\n",
      "F40                     82865 non-null float64\n",
      "F41                     83006 non-null float64\n",
      "F42                     82987 non-null float64\n",
      "F43                     78866 non-null float64\n",
      "F44                     78885 non-null float64\n",
      "F45                     78888 non-null float64\n",
      "F46                     81703 non-null float64\n",
      "F47                     81815 non-null float64\n",
      "dtypes: float64(46), int64(2)\n",
      "memory usage: 37.8 MB\n"
     ]
    }
   ],
   "source": [
    "df.info()"
   ]
  },
  {
   "cell_type": "code",
   "execution_count": 9,
   "metadata": {},
   "outputs": [
    {
     "data": {
      "text/plain": [
       "Series([], Name: F23, dtype: int64)"
      ]
     },
     "execution_count": 9,
     "metadata": {},
     "output_type": "execute_result"
    }
   ],
   "source": [
    "df['F23'].value_counts()"
   ]
  },
  {
   "cell_type": "code",
   "execution_count": 10,
   "metadata": {},
   "outputs": [],
   "source": [
    "# F23 - відсутні дані, можна видалити\n",
    "df.drop(('F23'), axis=1, inplace=True)"
   ]
  },
  {
   "cell_type": "code",
   "execution_count": 11,
   "metadata": {},
   "outputs": [],
   "source": [
    "# заповнимо значеннями NaN\n",
    "for column in df.columns:\n",
    "    #df[column] = df[column].fillna(df[column].median())\n",
    "    df[column] = df[column].fillna(9999)"
   ]
  },
  {
   "cell_type": "code",
   "execution_count": 12,
   "metadata": {},
   "outputs": [
    {
     "name": "stdout",
     "output_type": "stream",
     "text": [
      "<class 'pandas.core.frame.DataFrame'>\n",
      "RangeIndex: 103170 entries, 0 to 103169\n",
      "Data columns (total 47 columns):\n",
      "ID                      103170 non-null int64\n",
      "MONTH_NUM_FROM_EVENT    103170 non-null int64\n",
      "F1                      103170 non-null float64\n",
      "F2                      103170 non-null float64\n",
      "F3                      103170 non-null float64\n",
      "F4                      103170 non-null float64\n",
      "F5                      103170 non-null float64\n",
      "F6                      103170 non-null float64\n",
      "F7                      103170 non-null float64\n",
      "F8                      103170 non-null float64\n",
      "F9                      103170 non-null float64\n",
      "F10                     103170 non-null float64\n",
      "F11                     103170 non-null float64\n",
      "F12                     103170 non-null float64\n",
      "F13                     103170 non-null float64\n",
      "F14                     103170 non-null float64\n",
      "F15                     103170 non-null float64\n",
      "F16                     103170 non-null float64\n",
      "F17                     103170 non-null float64\n",
      "F18                     103170 non-null float64\n",
      "F19                     103170 non-null float64\n",
      "F20                     103170 non-null float64\n",
      "F21                     103170 non-null float64\n",
      "F22                     103170 non-null float64\n",
      "F24                     103170 non-null float64\n",
      "F26                     103170 non-null float64\n",
      "F27                     103170 non-null float64\n",
      "F28                     103170 non-null float64\n",
      "F29                     103170 non-null float64\n",
      "F30                     103170 non-null float64\n",
      "F31                     103170 non-null float64\n",
      "F32                     103170 non-null float64\n",
      "F33                     103170 non-null float64\n",
      "F34                     103170 non-null float64\n",
      "F35                     103170 non-null float64\n",
      "F36                     103170 non-null float64\n",
      "F37                     103170 non-null float64\n",
      "F38                     103170 non-null float64\n",
      "F39                     103170 non-null float64\n",
      "F40                     103170 non-null float64\n",
      "F41                     103170 non-null float64\n",
      "F42                     103170 non-null float64\n",
      "F43                     103170 non-null float64\n",
      "F44                     103170 non-null float64\n",
      "F45                     103170 non-null float64\n",
      "F46                     103170 non-null float64\n",
      "F47                     103170 non-null float64\n",
      "dtypes: float64(45), int64(2)\n",
      "memory usage: 37.0 MB\n"
     ]
    }
   ],
   "source": [
    "df.info()"
   ]
  },
  {
   "cell_type": "code",
   "execution_count": 13,
   "metadata": {},
   "outputs": [
    {
     "data": {
      "text/plain": [
       "ID                       1.00\n",
       "MONTH_NUM_FROM_EVENT     1.00\n",
       "F1                      -1.00\n",
       "F2                       0.00\n",
       "F3                       0.00\n",
       "F4                       0.00\n",
       "F5                       0.00\n",
       "F6                       0.00\n",
       "F7                       0.00\n",
       "F8                       0.00\n",
       "F9                       0.00\n",
       "F10                      0.00\n",
       "F11                      0.00\n",
       "F12                      0.00\n",
       "F13                      0.00\n",
       "F14                      0.00\n",
       "F15                      0.00\n",
       "F16                      0.00\n",
       "F17                      0.00\n",
       "F18                      0.00\n",
       "F19                      0.00\n",
       "F20                     -4.25\n",
       "F21                      0.00\n",
       "F22                      0.00\n",
       "F24                      0.00\n",
       "F26                      0.00\n",
       "F27                      0.00\n",
       "F28                      0.00\n",
       "F29                      0.00\n",
       "F30                      0.00\n",
       "F31                      0.00\n",
       "F32                      1.00\n",
       "F33                      1.00\n",
       "F34                     10.00\n",
       "F35                      0.00\n",
       "F36                      0.00\n",
       "F37                      1.00\n",
       "F38                      1.00\n",
       "F39                      0.00\n",
       "F40                      0.00\n",
       "F41                      0.00\n",
       "F42                      0.00\n",
       "F43                      0.00\n",
       "F44                      0.00\n",
       "F45                      0.00\n",
       "F46                      1.00\n",
       "F47                      1.00\n",
       "dtype: float64"
      ]
     },
     "execution_count": 13,
     "metadata": {},
     "output_type": "execute_result"
    }
   ],
   "source": [
    "df.min()"
   ]
  },
  {
   "cell_type": "markdown",
   "metadata": {},
   "source": [
    "##### Невідомо, чим є кожна із F1...F47 і чи можуть бути мінімальні значення відємними числами, чи це помилка в даних. Припустимо, що це не помилка, додамо 1 та 4.5 до F1 i F20"
   ]
  },
  {
   "cell_type": "code",
   "execution_count": 14,
   "metadata": {},
   "outputs": [],
   "source": [
    "df.F1 = df['F1'].apply(lambda x: x+1)\n",
    "df.F20 = df['F20'].apply(lambda x: x+4.25)"
   ]
  },
  {
   "cell_type": "code",
   "execution_count": 15,
   "metadata": {},
   "outputs": [
    {
     "name": "stdout",
     "output_type": "stream",
     "text": [
      "0.0\n",
      "0.0\n"
     ]
    }
   ],
   "source": [
    "print(df.F1.min())\n",
    "print(df.F20.min())"
   ]
  },
  {
   "cell_type": "code",
   "execution_count": 16,
   "metadata": {},
   "outputs": [
    {
     "data": {
      "text/plain": [
       "0.0       0.914355\n",
       "9999.0    0.049966\n",
       "1.0       0.035679\n",
       "Name: F5, dtype: float64"
      ]
     },
     "execution_count": 16,
     "metadata": {},
     "output_type": "execute_result"
    }
   ],
   "source": [
    "df['F5'].value_counts(normalize=True)"
   ]
  },
  {
   "cell_type": "markdown",
   "metadata": {},
   "source": [
    "### можливі категоріальні змінні - згодиться для нейромережі"
   ]
  },
  {
   "cell_type": "code",
   "execution_count": 17,
   "metadata": {},
   "outputs": [
    {
     "name": "stdout",
     "output_type": "stream",
     "text": [
      "Number of levels in category 'ID': \b 17195.00 \n",
      "Number of levels in category 'MONTH_NUM_FROM_EVENT': \b 6.00 \n",
      "Number of levels in category 'F1': \b 27.00 \n",
      "Number of levels in category 'F2': \b 205.00 \n",
      "Number of levels in category 'F3': \b 33.00 \n",
      "Number of levels in category 'F4': \b 33.00 \n",
      "Number of levels in category 'F5': \b 3.00 \n",
      "Number of levels in category 'F6': \b 46618.00 \n",
      "Number of levels in category 'F7': \b 45674.00 \n",
      "Number of levels in category 'F8': \b 6404.00 \n",
      "Number of levels in category 'F9': \b 46608.00 \n",
      "Number of levels in category 'F10': \b 45532.00 \n",
      "Number of levels in category 'F11': \b 7301.00 \n",
      "Number of levels in category 'F12': \b 1224.00 \n",
      "Number of levels in category 'F13': \b 1134.00 \n",
      "Number of levels in category 'F14': \b 287.00 \n",
      "Number of levels in category 'F15': \b 1025.00 \n",
      "Number of levels in category 'F16': \b 968.00 \n",
      "Number of levels in category 'F17': \b 289.00 \n",
      "Number of levels in category 'F18': \b 6727.00 \n",
      "Number of levels in category 'F19': \b 641.00 \n",
      "Number of levels in category 'F20': \b 15962.00 \n",
      "Number of levels in category 'F21': \b 42168.00 \n",
      "Number of levels in category 'F22': \b 26485.00 \n",
      "Number of levels in category 'F24': \b 3.00 \n",
      "Number of levels in category 'F26': \b 34.00 \n",
      "Number of levels in category 'F27': \b 34.00 \n",
      "Number of levels in category 'F28': \b 34.00 \n",
      "Number of levels in category 'F29': \b 34.00 \n",
      "Number of levels in category 'F30': \b 34.00 \n",
      "Number of levels in category 'F31': \b 33.00 \n",
      "Number of levels in category 'F32': \b 7.00 \n",
      "Number of levels in category 'F33': \b 44.00 \n",
      "Number of levels in category 'F34': \b 376.00 \n",
      "Number of levels in category 'F35': \b 1048.00 \n",
      "Number of levels in category 'F36': \b 819.00 \n",
      "Number of levels in category 'F37': \b 46.00 \n",
      "Number of levels in category 'F38': \b 381.00 \n",
      "Number of levels in category 'F39': \b 211.00 \n",
      "Number of levels in category 'F40': \b 12.00 \n",
      "Number of levels in category 'F41': \b 13.00 \n",
      "Number of levels in category 'F42': \b 15.00 \n",
      "Number of levels in category 'F43': \b 7.00 \n",
      "Number of levels in category 'F44': \b 4.00 \n",
      "Number of levels in category 'F45': \b 3.00 \n",
      "Number of levels in category 'F46': \b 29.00 \n",
      "Number of levels in category 'F47': \b 9765.00 \n"
     ]
    }
   ],
   "source": [
    "for cat in df.columns:\n",
    "    print(\"Number of levels in category '{0}': \\b {1:2.2f} \".format(cat, df[cat].unique().size))"
   ]
  },
  {
   "cell_type": "code",
   "execution_count": 18,
   "metadata": {},
   "outputs": [
    {
     "name": "stdout",
     "output_type": "stream",
     "text": [
      "MONTH_NUM_FROM_EVENT\n",
      "F5\n",
      "F24\n",
      "F44\n",
      "F45\n"
     ]
    }
   ],
   "source": [
    "for i in df.columns:\n",
    "    s = []\n",
    "    if df[i].nunique() <= 6:\n",
    "        s +=i\n",
    "        print(i)\n",
    "        #print(s)"
   ]
  },
  {
   "cell_type": "code",
   "execution_count": 19,
   "metadata": {},
   "outputs": [],
   "source": [
    "# додамо змінні TARGET з train i test"
   ]
  },
  {
   "cell_type": "code",
   "execution_count": 20,
   "metadata": {},
   "outputs": [],
   "source": [
    "res = df.merge(dftrain, 'left', on='ID')"
   ]
  },
  {
   "cell_type": "code",
   "execution_count": 21,
   "metadata": {},
   "outputs": [
    {
     "data": {
      "text/html": [
       "<div>\n",
       "<style scoped>\n",
       "    .dataframe tbody tr th:only-of-type {\n",
       "        vertical-align: middle;\n",
       "    }\n",
       "\n",
       "    .dataframe tbody tr th {\n",
       "        vertical-align: top;\n",
       "    }\n",
       "\n",
       "    .dataframe thead th {\n",
       "        text-align: right;\n",
       "    }\n",
       "</style>\n",
       "<table border=\"1\" class=\"dataframe\">\n",
       "  <thead>\n",
       "    <tr style=\"text-align: right;\">\n",
       "      <th></th>\n",
       "      <th>ID</th>\n",
       "      <th>MONTH_NUM_FROM_EVENT</th>\n",
       "      <th>F1</th>\n",
       "      <th>F2</th>\n",
       "      <th>F3</th>\n",
       "      <th>F4</th>\n",
       "      <th>F5</th>\n",
       "      <th>F6</th>\n",
       "      <th>F7</th>\n",
       "      <th>F8</th>\n",
       "      <th>...</th>\n",
       "      <th>F39</th>\n",
       "      <th>F40</th>\n",
       "      <th>F41</th>\n",
       "      <th>F42</th>\n",
       "      <th>F43</th>\n",
       "      <th>F44</th>\n",
       "      <th>F45</th>\n",
       "      <th>F46</th>\n",
       "      <th>F47</th>\n",
       "      <th>TARGET</th>\n",
       "    </tr>\n",
       "  </thead>\n",
       "  <tbody>\n",
       "    <tr>\n",
       "      <th>0</th>\n",
       "      <td>2</td>\n",
       "      <td>1</td>\n",
       "      <td>5.0</td>\n",
       "      <td>133.0</td>\n",
       "      <td>28.0</td>\n",
       "      <td>9999.0</td>\n",
       "      <td>0.0</td>\n",
       "      <td>9999.00</td>\n",
       "      <td>518.98</td>\n",
       "      <td>2.6</td>\n",
       "      <td>...</td>\n",
       "      <td>137.0</td>\n",
       "      <td>0.0</td>\n",
       "      <td>2.0</td>\n",
       "      <td>2.0</td>\n",
       "      <td>1.0</td>\n",
       "      <td>0.0</td>\n",
       "      <td>0.0</td>\n",
       "      <td>2.0</td>\n",
       "      <td>958.0</td>\n",
       "      <td>0.0</td>\n",
       "    </tr>\n",
       "    <tr>\n",
       "      <th>1</th>\n",
       "      <td>2</td>\n",
       "      <td>2</td>\n",
       "      <td>10000.0</td>\n",
       "      <td>132.0</td>\n",
       "      <td>29.0</td>\n",
       "      <td>24.0</td>\n",
       "      <td>0.0</td>\n",
       "      <td>578.35</td>\n",
       "      <td>574.98</td>\n",
       "      <td>2.8</td>\n",
       "      <td>...</td>\n",
       "      <td>93.0</td>\n",
       "      <td>9999.0</td>\n",
       "      <td>2.0</td>\n",
       "      <td>3.0</td>\n",
       "      <td>1.0</td>\n",
       "      <td>0.0</td>\n",
       "      <td>0.0</td>\n",
       "      <td>2.0</td>\n",
       "      <td>936.0</td>\n",
       "      <td>0.0</td>\n",
       "    </tr>\n",
       "  </tbody>\n",
       "</table>\n",
       "<p>2 rows × 48 columns</p>\n",
       "</div>"
      ],
      "text/plain": [
       "   ID  MONTH_NUM_FROM_EVENT       F1     F2    F3      F4   F5       F6  \\\n",
       "0   2                     1      5.0  133.0  28.0  9999.0  0.0  9999.00   \n",
       "1   2                     2  10000.0  132.0  29.0    24.0  0.0   578.35   \n",
       "\n",
       "       F7   F8   ...      F39     F40  F41  F42  F43  F44  F45  F46    F47  \\\n",
       "0  518.98  2.6   ...    137.0     0.0  2.0  2.0  1.0  0.0  0.0  2.0  958.0   \n",
       "1  574.98  2.8   ...     93.0  9999.0  2.0  3.0  1.0  0.0  0.0  2.0  936.0   \n",
       "\n",
       "   TARGET  \n",
       "0     0.0  \n",
       "1     0.0  \n",
       "\n",
       "[2 rows x 48 columns]"
      ]
     },
     "execution_count": 21,
     "metadata": {},
     "output_type": "execute_result"
    }
   ],
   "source": [
    "res.head(2)"
   ]
  },
  {
   "cell_type": "code",
   "execution_count": 22,
   "metadata": {},
   "outputs": [],
   "source": [
    "# видаляємо значення NaN у TARGET - формуємо вибірку train"
   ]
  },
  {
   "cell_type": "code",
   "execution_count": 23,
   "metadata": {},
   "outputs": [],
   "source": [
    "train = res.dropna(axis=0, how='any')"
   ]
  },
  {
   "cell_type": "code",
   "execution_count": 24,
   "metadata": {},
   "outputs": [
    {
     "data": {
      "text/plain": [
       "(77340, 48)"
      ]
     },
     "execution_count": 24,
     "metadata": {},
     "output_type": "execute_result"
    }
   ],
   "source": [
    "train.shape"
   ]
  },
  {
   "cell_type": "code",
   "execution_count": 25,
   "metadata": {},
   "outputs": [
    {
     "data": {
      "text/plain": [
       "array([0., 1.])"
      ]
     },
     "execution_count": 25,
     "metadata": {},
     "output_type": "execute_result"
    }
   ],
   "source": [
    "train['TARGET'].unique()"
   ]
  },
  {
   "cell_type": "code",
   "execution_count": 26,
   "metadata": {},
   "outputs": [
    {
     "name": "stdout",
     "output_type": "stream",
     "text": [
      "[    2     4     5 ... 19671 19673 19680]\n",
      "[    1     3     6 ... 19671 19673 19680]\n"
     ]
    }
   ],
   "source": [
    "print(df['ID'].unique())\n",
    "print(dftest['ID'].unique())"
   ]
  },
  {
   "cell_type": "code",
   "execution_count": 27,
   "metadata": {},
   "outputs": [],
   "source": [
    "# на початку датасету не співпадають номера ID у вибірці даних та тестовому файлі, але такі ID все ж існують:"
   ]
  },
  {
   "cell_type": "code",
   "execution_count": 28,
   "metadata": {},
   "outputs": [
    {
     "name": "stdout",
     "output_type": "stream",
     "text": [
      "3\n",
      "3\n",
      "3\n",
      "3\n",
      "3\n",
      "3\n"
     ]
    }
   ],
   "source": [
    "for i in res['ID']:\n",
    "    if i==3:\n",
    "        print(i)"
   ]
  },
  {
   "cell_type": "code",
   "execution_count": 29,
   "metadata": {},
   "outputs": [
    {
     "data": {
      "text/plain": [
       "array([ 0.,  1., nan])"
      ]
     },
     "execution_count": 29,
     "metadata": {},
     "output_type": "execute_result"
    }
   ],
   "source": [
    "res['TARGET'].unique()"
   ]
  },
  {
   "cell_type": "code",
   "execution_count": 30,
   "metadata": {},
   "outputs": [
    {
     "data": {
      "text/plain": [
       "ID                      False\n",
       "MONTH_NUM_FROM_EVENT    False\n",
       "F1                      False\n",
       "F2                      False\n",
       "F3                      False\n",
       "F4                      False\n",
       "F5                      False\n",
       "F6                      False\n",
       "F7                      False\n",
       "F8                      False\n",
       "F9                      False\n",
       "F10                     False\n",
       "F11                     False\n",
       "F12                     False\n",
       "F13                     False\n",
       "F14                     False\n",
       "F15                     False\n",
       "F16                     False\n",
       "F17                     False\n",
       "F18                     False\n",
       "F19                     False\n",
       "F20                     False\n",
       "F21                     False\n",
       "F22                     False\n",
       "F24                     False\n",
       "F26                     False\n",
       "F27                     False\n",
       "F28                     False\n",
       "F29                     False\n",
       "F30                     False\n",
       "F31                     False\n",
       "F32                     False\n",
       "F33                     False\n",
       "F34                     False\n",
       "F35                     False\n",
       "F36                     False\n",
       "F37                     False\n",
       "F38                     False\n",
       "F39                     False\n",
       "F40                     False\n",
       "F41                     False\n",
       "F42                     False\n",
       "F43                     False\n",
       "F44                     False\n",
       "F45                     False\n",
       "F46                     False\n",
       "F47                     False\n",
       "TARGET                  False\n",
       "dtype: bool"
      ]
     },
     "execution_count": 30,
     "metadata": {},
     "output_type": "execute_result"
    }
   ],
   "source": [
    "pd.isnull(train).any()"
   ]
  },
  {
   "cell_type": "markdown",
   "metadata": {},
   "source": [
    "### формуємо вибірку test"
   ]
  },
  {
   "cell_type": "code",
   "execution_count": 31,
   "metadata": {},
   "outputs": [],
   "source": [
    "test = res.fillna(22)"
   ]
  },
  {
   "cell_type": "code",
   "execution_count": 32,
   "metadata": {},
   "outputs": [],
   "source": [
    "test['TARGET'] = test['TARGET'].replace(0, np.nan)\n",
    "test['TARGET'] = test['TARGET'].replace(1, np.nan)"
   ]
  },
  {
   "cell_type": "code",
   "execution_count": 33,
   "metadata": {},
   "outputs": [],
   "source": [
    "test = test.dropna(axis=0, how='any') #видаляємо всі не нульові рядки в таргет - залишаємо NaN"
   ]
  },
  {
   "cell_type": "code",
   "execution_count": 34,
   "metadata": {},
   "outputs": [
    {
     "data": {
      "text/plain": [
       "array([22.])"
      ]
     },
     "execution_count": 34,
     "metadata": {},
     "output_type": "execute_result"
    }
   ],
   "source": [
    "test['TARGET'].unique()"
   ]
  },
  {
   "cell_type": "code",
   "execution_count": 35,
   "metadata": {},
   "outputs": [],
   "source": [
    "test.drop('TARGET', axis=1, inplace=True)"
   ]
  },
  {
   "cell_type": "code",
   "execution_count": 36,
   "metadata": {},
   "outputs": [
    {
     "data": {
      "text/plain": [
       "(25830, 47)"
      ]
     },
     "execution_count": 36,
     "metadata": {},
     "output_type": "execute_result"
    }
   ],
   "source": [
    "test.shape"
   ]
  },
  {
   "cell_type": "code",
   "execution_count": 37,
   "metadata": {},
   "outputs": [
    {
     "data": {
      "text/plain": [
       "{'TARGET'}"
      ]
     },
     "execution_count": 37,
     "metadata": {},
     "output_type": "execute_result"
    }
   ],
   "source": [
    "set(train.columns) - set(test.columns)"
   ]
  },
  {
   "cell_type": "code",
   "execution_count": 38,
   "metadata": {},
   "outputs": [
    {
     "data": {
      "text/plain": [
       "ID                      False\n",
       "MONTH_NUM_FROM_EVENT    False\n",
       "F1                      False\n",
       "F2                      False\n",
       "F3                      False\n",
       "F4                      False\n",
       "F5                      False\n",
       "F6                      False\n",
       "F7                      False\n",
       "F8                      False\n",
       "F9                      False\n",
       "F10                     False\n",
       "F11                     False\n",
       "F12                     False\n",
       "F13                     False\n",
       "F14                     False\n",
       "F15                     False\n",
       "F16                     False\n",
       "F17                     False\n",
       "F18                     False\n",
       "F19                     False\n",
       "F20                     False\n",
       "F21                     False\n",
       "F22                     False\n",
       "F24                     False\n",
       "F26                     False\n",
       "F27                     False\n",
       "F28                     False\n",
       "F29                     False\n",
       "F30                     False\n",
       "F31                     False\n",
       "F32                     False\n",
       "F33                     False\n",
       "F34                     False\n",
       "F35                     False\n",
       "F36                     False\n",
       "F37                     False\n",
       "F38                     False\n",
       "F39                     False\n",
       "F40                     False\n",
       "F41                     False\n",
       "F42                     False\n",
       "F43                     False\n",
       "F44                     False\n",
       "F45                     False\n",
       "F46                     False\n",
       "F47                     False\n",
       "dtype: bool"
      ]
     },
     "execution_count": 38,
     "metadata": {},
     "output_type": "execute_result"
    }
   ],
   "source": [
    "pd.isnull(test).any()"
   ]
  },
  {
   "cell_type": "markdown",
   "metadata": {},
   "source": [
    "## баланс TARGET"
   ]
  },
  {
   "cell_type": "code",
   "execution_count": 39,
   "metadata": {},
   "outputs": [
    {
     "data": {
      "text/plain": [
       "0.0808378588052754"
      ]
     },
     "execution_count": 39,
     "metadata": {},
     "output_type": "execute_result"
    }
   ],
   "source": [
    "train['TARGET'].mean() # 8% значень \"1\" - дисбаланс"
   ]
  },
  {
   "cell_type": "markdown",
   "metadata": {},
   "source": [
    "## розбивка даних"
   ]
  },
  {
   "cell_type": "code",
   "execution_count": 40,
   "metadata": {},
   "outputs": [],
   "source": [
    "X = train.drop('TARGET', axis=1)\n",
    "\n",
    "y = train['TARGET']"
   ]
  },
  {
   "cell_type": "code",
   "execution_count": 41,
   "metadata": {},
   "outputs": [],
   "source": [
    "from sklearn.model_selection import train_test_split\n",
    "\n",
    "#X_train, X_test, y_train, y_test = train_test_split(X, y, random_state=0)"
   ]
  },
  {
   "cell_type": "code",
   "execution_count": 42,
   "metadata": {},
   "outputs": [],
   "source": [
    "#from sklearn.cross_validation import train_test_split\n",
    "X_train, X_test, y_train, y_test = train_test_split(X, y, test_size = 0.3, stratify=y, random_state=42)"
   ]
  },
  {
   "cell_type": "markdown",
   "metadata": {},
   "source": [
    "## knn"
   ]
  },
  {
   "cell_type": "code",
   "execution_count": 43,
   "metadata": {},
   "outputs": [
    {
     "name": "stdout",
     "output_type": "stream",
     "text": [
      "Populating the interactive namespace from numpy and matplotlib\n"
     ]
    },
    {
     "name": "stderr",
     "output_type": "stream",
     "text": [
      "C:\\Users\\sydor\\Anaconda3\\envs\\tpot\\lib\\site-packages\\IPython\\core\\magics\\pylab.py:160: UserWarning: pylab import has clobbered these variables: ['test']\n",
      "`%matplotlib` prevents importing * from pylab and numpy\n",
      "  \"\\n`%matplotlib` prevents importing * from pylab and numpy\"\n"
     ]
    }
   ],
   "source": [
    "import matplotlib.pyplot as plt\n",
    "# будем отображать графики прямо в jupyter'e\n",
    "%pylab inline"
   ]
  },
  {
   "cell_type": "code",
   "execution_count": 47,
   "metadata": {},
   "outputs": [],
   "source": [
    "from sklearn import metrics\n",
    "from sklearn.metrics import roc_auc_score"
   ]
  },
  {
   "cell_type": "code",
   "execution_count": 45,
   "metadata": {},
   "outputs": [],
   "source": [
    "from sklearn.neighbors import KNeighborsClassifier\n",
    "clf = KNeighborsClassifier(n_neighbors=5, n_jobs=-1)"
   ]
  },
  {
   "cell_type": "code",
   "execution_count": 50,
   "metadata": {},
   "outputs": [
    {
     "data": {
      "text/plain": [
       "<matplotlib.legend.Legend at 0x180da74b6d8>"
      ]
     },
     "execution_count": 50,
     "metadata": {},
     "output_type": "execute_result"
    },
    {
     "data": {
      "image/png": "[encoded data removed]",
      "text/plain": [
       "<Figure size 432x288 with 1 Axes>"
      ]
     },
     "metadata": {
      "needs_background": "light"
     },
     "output_type": "display_data"
    }
   ],
   "source": [
    "training_accuracy = []\n",
    "test_accuracy = []\n",
    "\n",
    "\n",
    "# try n_neighbors from 1 to 10\n",
    "neighbors_settings = range(1, 11)\n",
    "\n",
    "for n_neighbors in neighbors_settings:\n",
    "    # build the model\n",
    "    clf = KNeighborsClassifier(n_jobs=-1, n_neighbors=n_neighbors)\n",
    "    clf.fit(X_train, y_train)\n",
    "    \n",
    "    # record training set accuracy\n",
    "    training_accuracy.append(clf.score(X_train, y_train))\n",
    "    # record generalization accuracy\n",
    "    test_accuracy.append(clf.score(X_test, y_test))\n",
    "    \n",
    "\n",
    "plt.plot(neighbors_settings, training_accuracy, label=\"training accuracy\")\n",
    "plt.plot(neighbors_settings, test_accuracy, label=\"test accuracy\")\n",
    "plt.ylabel(\"Accuracy\")\n",
    "plt.xlabel(\"n_neighbors\")\n",
    "plt.legend()\n"
   ]
  },
  {
   "cell_type": "code",
   "execution_count": 55,
   "metadata": {},
   "outputs": [
    {
     "data": {
      "text/plain": [
       "KNeighborsClassifier(algorithm='auto', leaf_size=30, metric='minkowski',\n",
       "           metric_params=None, n_jobs=-1, n_neighbors=4, p=2,\n",
       "           weights='uniform')"
      ]
     },
     "execution_count": 55,
     "metadata": {},
     "output_type": "execute_result"
    }
   ],
   "source": [
    "clf = KNeighborsClassifier(n_jobs=-1, n_neighbors=4)\n",
    "clf.fit(X_train, y_train)"
   ]
  },
  {
   "cell_type": "code",
   "execution_count": 56,
   "metadata": {},
   "outputs": [
    {
     "name": "stdout",
     "output_type": "stream",
     "text": [
      "Test set predictions: [0. 0. 0. ... 0. 0. 0.]\n"
     ]
    }
   ],
   "source": [
    "predictions = clf.predict(X_test)\n",
    "print(\"Test set predictions: {}\".format(clf.predict(X_test)))"
   ]
  },
  {
   "cell_type": "code",
   "execution_count": 57,
   "metadata": {},
   "outputs": [
    {
     "name": "stdout",
     "output_type": "stream",
     "text": [
      "Train set accuracy: 0.92\n",
      "Test set accuracy: 0.92\n"
     ]
    }
   ],
   "source": [
    "print(\"Train set accuracy: {:.2f}\".format(clf.score(X_train, y_train)))\n",
    "print(\"Test set accuracy: {:.2f}\".format(clf.score(X_test, y_test)))\n",
    "# Train set accuracy: 0.93\n",
    "# Test set accuracy: 0.92"
   ]
  },
  {
   "cell_type": "code",
   "execution_count": 58,
   "metadata": {},
   "outputs": [
    {
     "name": "stdout",
     "output_type": "stream",
     "text": [
      "AUC for knn: 0.501\n"
     ]
    }
   ],
   "source": [
    "from sklearn.metrics import roc_auc_score\n",
    "\n",
    "knn_auc = roc_auc_score(y_test, predictions)\n",
    "print(\"AUC for knn: {:.3f}\".format(knn_auc))\n",
    "# AUC for knn: 0.535"
   ]
  },
  {
   "cell_type": "code",
   "execution_count": null,
   "metadata": {},
   "outputs": [],
   "source": [
    "test_['TARGET'] = clf.predict(test_)\n",
    "\n",
    "test_[['ID','TARGET']].to_csv('SydorykYurii.txt', index=False, float_format='%.8f')"
   ]
  },
  {
   "cell_type": "markdown",
   "metadata": {},
   "source": [
    "# TPOT"
   ]
  },
  {
   "cell_type": "code",
   "execution_count": 43,
   "metadata": {},
   "outputs": [],
   "source": [
    "from tpot import TPOTClassifier"
   ]
  },
  {
   "cell_type": "markdown",
   "metadata": {},
   "source": [
    "training_indices, validation_indices = training_indices, testing_indices = train_test_split(train.index, stratify = y, train_size=0.75, test_size=0.25)\n",
    "training_indices.size, validation_indices.size"
   ]
  },
  {
   "cell_type": "markdown",
   "metadata": {},
   "source": [
    "tpot = TPOTClassifier(verbosity=2, max_time_mins=2, max_eval_time_mins=0.04, population_size=15)\n",
    "tpot.fit(train[training_indices], y[training_indices])"
   ]
  },
  {
   "cell_type": "code",
   "execution_count": 44,
   "metadata": {},
   "outputs": [
    {
     "name": "stderr",
     "output_type": "stream",
     "text": [
      "                                                                            \r"
     ]
    },
    {
     "name": "stdout",
     "output_type": "stream",
     "text": [
      "\n",
      "2.02396955 minutes have elapsed. TPOT will close down.\n",
      "TPOT closed prematurely. Will use the current best pipeline.\n",
      "\n",
      "Best pipeline: DecisionTreeClassifier(input_matrix, criterion=entropy, max_depth=1, min_samples_leaf=6, min_samples_split=9)\n"
     ]
    },
    {
     "data": {
      "text/plain": [
       "TPOTClassifier(config_dict={'sklearn.naive_bayes.GaussianNB': {}, 'sklearn.naive_bayes.BernoulliNB': {'alpha': [0.001, 0.01, 0.1, 1.0, 10.0, 100.0], 'fit_prior': [True, False]}, 'sklearn.naive_bayes.MultinomialNB': {'alpha': [0.001, 0.01, 0.1, 1.0, 10.0, 100.0], 'fit_prior': [True, False]}, 'sklearn.tree.DecisionT....3 , 0.35, 0.4 , 0.45, 0.5 , 0.55,\n",
       "       0.6 , 0.65, 0.7 , 0.75, 0.8 , 0.85, 0.9 , 0.95, 1.  ])}}}},\n",
       "        crossover_rate=0.1, cv=5, disable_update_check=False,\n",
       "        early_stop=None, generations=1000000, max_eval_time_mins=0.04,\n",
       "        max_time_mins=2, memory=None, mutation_rate=0.9, n_jobs=1,\n",
       "        offspring_size=15, periodic_checkpoint_folder=None,\n",
       "        population_size=15, random_state=None, scoring=None, subsample=1.0,\n",
       "        verbosity=2, warm_start=False)"
      ]
     },
     "execution_count": 44,
     "metadata": {},
     "output_type": "execute_result"
    }
   ],
   "source": [
    "tpot = TPOTClassifier(verbosity=2, max_time_mins=2, max_eval_time_mins=0.04, population_size=15)\n",
    "tpot.fit(X_train, y_train)"
   ]
  },
  {
   "cell_type": "code",
   "execution_count": 45,
   "metadata": {},
   "outputs": [
    {
     "data": {
      "text/plain": [
       "0.9191695297203443"
      ]
     },
     "execution_count": 45,
     "metadata": {},
     "output_type": "execute_result"
    }
   ],
   "source": [
    "tpot.score(X_train, y_train)"
   ]
  },
  {
   "cell_type": "code",
   "execution_count": 46,
   "metadata": {},
   "outputs": [
    {
     "data": {
      "text/plain": [
       "True"
      ]
     },
     "execution_count": 46,
     "metadata": {},
     "output_type": "execute_result"
    }
   ],
   "source": [
    "tpot.export('tpot_KStar_pipeline.py')"
   ]
  },
  {
   "cell_type": "code",
   "execution_count": 47,
   "metadata": {},
   "outputs": [
    {
     "name": "stdout",
     "output_type": "stream",
     "text": [
      "tpot_test_roc_auc_score = 0.5\n"
     ]
    }
   ],
   "source": [
    "from sklearn.metrics import roc_auc_score\n",
    "#tpot.score(X_train, y_train)\n",
    "tpot_test_roc_auc_score = roc_auc_score(y_test, tpot.predict(X_test))\n",
    "print (\"tpot_test_roc_auc_score =\", tpot_test_roc_auc_score)"
   ]
  },
  {
   "cell_type": "markdown",
   "metadata": {},
   "source": [
    "## GBT - градієнтний бустинг дерев рішень"
   ]
  },
  {
   "cell_type": "code",
   "execution_count": 42,
   "metadata": {},
   "outputs": [
    {
     "name": "stdout",
     "output_type": "stream",
     "text": [
      "Wall time: 39.8 s\n"
     ]
    }
   ],
   "source": [
    "%%time\n",
    "# \n",
    "from sklearn import ensemble\n",
    "\n",
    "gbt = ensemble.GradientBoostingClassifier(n_estimators=260, random_state=11)\n",
    "gbt.fit(X_train, y_train)"
   ]
  },
  {
   "cell_type": "code",
   "execution_count": 43,
   "metadata": {},
   "outputs": [
    {
     "name": "stdout",
     "output_type": "stream",
     "text": [
      "svc_train_roc_auc_score = 0.5222378494210137\n",
      "svc_test_roc_auc_score = 0.5140492640693853\n"
     ]
    }
   ],
   "source": [
    "from sklearn.metrics import roc_auc_score\n",
    "#from sklearn.metrics import accuracy_score\n",
    "# ROC_AUC\n",
    "\n",
    "svc_train_roc_auc_score = roc_auc_score(y_train, gbt.predict(X_train))\n",
    "svc_test_roc_auc_score = roc_auc_score(y_test, gbt.predict(X_test))\n",
    "\n",
    "print (\"svc_train_roc_auc_score =\", svc_train_roc_auc_score)\n",
    "print (\"svc_test_roc_auc_score =\", svc_test_roc_auc_score)\n",
    "\n",
    "#svc_train_acc_score = accuracy_score(y_train, gbt.predict(X_train))\n",
    "#svc_test_acc_score = accuracy_score(y_test, gbt.predict(X_test))\n",
    "\n",
    "#print (\"Accuracy on training set: {:.5f}\", svc_train_acc_score)\n",
    "#print (\"Accuracy on testing set: {:.5f}\", svc_test_acc_score)"
   ]
  },
  {
   "cell_type": "markdown",
   "metadata": {},
   "source": [
    "# XGBoost"
   ]
  },
  {
   "cell_type": "code",
   "execution_count": 48,
   "metadata": {},
   "outputs": [],
   "source": [
    "import xgboost as xgb"
   ]
  },
  {
   "cell_type": "code",
   "execution_count": 49,
   "metadata": {},
   "outputs": [],
   "source": [
    "params = {'eta': 0.02, 'max_depth': 8, 'objective': 'binary:logistic', 'subsample': 0.8, 'colsample_bytree': 0.8, 'min_child_weight': 0.77, 'scale_pos_weight': 1.6, 'gamma': 10, 'reg_alpha': 8, 'reg_lambda': 1.3, 'eval_metric': 'auc', 'seed': 99, 'silent': True}\n"
   ]
  },
  {
   "cell_type": "code",
   "execution_count": 50,
   "metadata": {},
   "outputs": [
    {
     "name": "stdout",
     "output_type": "stream",
     "text": [
      "[0]\ttrain-auc:0.693821\tvalid-auc:0.700991\n",
      "Multiple eval metrics have been passed: 'valid-auc' will be used for early stopping.\n",
      "\n",
      "Will train until valid-auc hasn't improved in 200 rounds.\n",
      "[50]\ttrain-auc:0.756572\tvalid-auc:0.749397\n",
      "[100]\ttrain-auc:0.782678\tvalid-auc:0.76406\n",
      "[150]\ttrain-auc:0.80544\tvalid-auc:0.776079\n",
      "[200]\ttrain-auc:0.825872\tvalid-auc:0.786173\n",
      "[250]\ttrain-auc:0.841041\tvalid-auc:0.793365\n",
      "[300]\ttrain-auc:0.852896\tvalid-auc:0.799859\n",
      "[350]\ttrain-auc:0.862088\tvalid-auc:0.80463\n",
      "[400]\ttrain-auc:0.87065\tvalid-auc:0.808889\n",
      "[450]\ttrain-auc:0.877311\tvalid-auc:0.811867\n",
      "[500]\ttrain-auc:0.883126\tvalid-auc:0.814475\n",
      "[550]\ttrain-auc:0.889351\tvalid-auc:0.817823\n",
      "[600]\ttrain-auc:0.893965\tvalid-auc:0.820264\n",
      "[650]\ttrain-auc:0.898082\tvalid-auc:0.822012\n",
      "[700]\ttrain-auc:0.902614\tvalid-auc:0.824203\n",
      "[750]\ttrain-auc:0.90605\tvalid-auc:0.826203\n",
      "[800]\ttrain-auc:0.909241\tvalid-auc:0.828019\n",
      "[850]\ttrain-auc:0.912635\tvalid-auc:0.829906\n",
      "[900]\ttrain-auc:0.915327\tvalid-auc:0.831417\n",
      "[950]\ttrain-auc:0.917749\tvalid-auc:0.832748\n",
      "[1000]\ttrain-auc:0.920345\tvalid-auc:0.834144\n",
      "[1050]\ttrain-auc:0.922537\tvalid-auc:0.835398\n",
      "[1100]\ttrain-auc:0.92414\tvalid-auc:0.836145\n",
      "[1150]\ttrain-auc:0.925756\tvalid-auc:0.836867\n",
      "[1200]\ttrain-auc:0.927001\tvalid-auc:0.837448\n",
      "[1250]\ttrain-auc:0.928181\tvalid-auc:0.838046\n",
      "[1300]\ttrain-auc:0.92966\tvalid-auc:0.838816\n",
      "[1350]\ttrain-auc:0.930492\tvalid-auc:0.839128\n",
      "[1400]\ttrain-auc:0.931897\tvalid-auc:0.839963\n",
      "[1450]\ttrain-auc:0.933255\tvalid-auc:0.840719\n",
      "[1500]\ttrain-auc:0.93438\tvalid-auc:0.841289\n",
      "[1550]\ttrain-auc:0.935588\tvalid-auc:0.842027\n",
      "[1600]\ttrain-auc:0.936685\tvalid-auc:0.84273\n",
      "[1650]\ttrain-auc:0.937571\tvalid-auc:0.843233\n",
      "[1700]\ttrain-auc:0.938492\tvalid-auc:0.843899\n",
      "[1750]\ttrain-auc:0.939363\tvalid-auc:0.844474\n",
      "[1800]\ttrain-auc:0.940195\tvalid-auc:0.844934\n",
      "[1850]\ttrain-auc:0.940877\tvalid-auc:0.845239\n",
      "[1900]\ttrain-auc:0.941682\tvalid-auc:0.845856\n",
      "[1950]\ttrain-auc:0.942215\tvalid-auc:0.846259\n",
      "[2000]\ttrain-auc:0.942941\tvalid-auc:0.846638\n",
      "[2050]\ttrain-auc:0.943428\tvalid-auc:0.847043\n",
      "[2100]\ttrain-auc:0.944075\tvalid-auc:0.847666\n",
      "[2150]\ttrain-auc:0.944726\tvalid-auc:0.848018\n",
      "[2200]\ttrain-auc:0.945249\tvalid-auc:0.848301\n",
      "[2250]\ttrain-auc:0.945924\tvalid-auc:0.848725\n",
      "[2300]\ttrain-auc:0.946406\tvalid-auc:0.849101\n",
      "[2350]\ttrain-auc:0.946901\tvalid-auc:0.849498\n",
      "[2400]\ttrain-auc:0.947485\tvalid-auc:0.849925\n",
      "[2450]\ttrain-auc:0.947807\tvalid-auc:0.84999\n",
      "[2500]\ttrain-auc:0.948329\tvalid-auc:0.850401\n",
      "[2550]\ttrain-auc:0.948738\tvalid-auc:0.850516\n",
      "[2600]\ttrain-auc:0.949205\tvalid-auc:0.850867\n",
      "[2650]\ttrain-auc:0.949663\tvalid-auc:0.851174\n",
      "[2700]\ttrain-auc:0.950054\tvalid-auc:0.851452\n",
      "[2750]\ttrain-auc:0.950507\tvalid-auc:0.851835\n",
      "[2800]\ttrain-auc:0.95097\tvalid-auc:0.852185\n",
      "[2850]\ttrain-auc:0.95131\tvalid-auc:0.852275\n",
      "[2900]\ttrain-auc:0.95168\tvalid-auc:0.852549\n",
      "[2950]\ttrain-auc:0.951913\tvalid-auc:0.852696\n",
      "[3000]\ttrain-auc:0.952292\tvalid-auc:0.852995\n",
      "[3050]\ttrain-auc:0.952541\tvalid-auc:0.853165\n",
      "[3100]\ttrain-auc:0.952908\tvalid-auc:0.853427\n",
      "[3150]\ttrain-auc:0.953125\tvalid-auc:0.853516\n",
      "[3200]\ttrain-auc:0.953493\tvalid-auc:0.853723\n",
      "[3250]\ttrain-auc:0.953735\tvalid-auc:0.853962\n",
      "[3300]\ttrain-auc:0.954007\tvalid-auc:0.854175\n",
      "[3350]\ttrain-auc:0.954212\tvalid-auc:0.854344\n",
      "[3400]\ttrain-auc:0.954428\tvalid-auc:0.854471\n",
      "[3450]\ttrain-auc:0.954638\tvalid-auc:0.854638\n",
      "[3500]\ttrain-auc:0.954901\tvalid-auc:0.854899\n",
      "[3550]\ttrain-auc:0.955173\tvalid-auc:0.855058\n",
      "[3600]\ttrain-auc:0.955391\tvalid-auc:0.855207\n",
      "[3650]\ttrain-auc:0.955802\tvalid-auc:0.855607\n",
      "[3700]\ttrain-auc:0.956018\tvalid-auc:0.855857\n",
      "[3750]\ttrain-auc:0.956192\tvalid-auc:0.855958\n",
      "[3800]\ttrain-auc:0.956437\tvalid-auc:0.85624\n",
      "[3850]\ttrain-auc:0.956534\tvalid-auc:0.856323\n",
      "[3900]\ttrain-auc:0.956756\tvalid-auc:0.856508\n",
      "[3950]\ttrain-auc:0.957048\tvalid-auc:0.856853\n",
      "[4000]\ttrain-auc:0.957314\tvalid-auc:0.857003\n",
      "[4050]\ttrain-auc:0.957525\tvalid-auc:0.857153\n",
      "[4100]\ttrain-auc:0.957626\tvalid-auc:0.857183\n",
      "[4150]\ttrain-auc:0.957828\tvalid-auc:0.857358\n",
      "[4200]\ttrain-auc:0.957984\tvalid-auc:0.857345\n",
      "[4250]\ttrain-auc:0.958305\tvalid-auc:0.857661\n",
      "[4300]\ttrain-auc:0.958488\tvalid-auc:0.857792\n",
      "[4350]\ttrain-auc:0.958629\tvalid-auc:0.857901\n",
      "[4400]\ttrain-auc:0.958782\tvalid-auc:0.858006\n",
      "[4450]\ttrain-auc:0.958988\tvalid-auc:0.858136\n",
      "[4500]\ttrain-auc:0.959231\tvalid-auc:0.858382\n",
      "[4550]\ttrain-auc:0.959392\tvalid-auc:0.858508\n",
      "[4600]\ttrain-auc:0.959517\tvalid-auc:0.858599\n",
      "[4650]\ttrain-auc:0.959718\tvalid-auc:0.858841\n",
      "[4700]\ttrain-auc:0.959766\tvalid-auc:0.85886\n",
      "[4750]\ttrain-auc:0.959878\tvalid-auc:0.858952\n",
      "[4800]\ttrain-auc:0.960015\tvalid-auc:0.858964\n",
      "[4850]\ttrain-auc:0.960085\tvalid-auc:0.85899\n",
      "[4900]\ttrain-auc:0.960276\tvalid-auc:0.859154\n",
      "[4950]\ttrain-auc:0.960399\tvalid-auc:0.859351\n",
      "[5000]\ttrain-auc:0.960501\tvalid-auc:0.859378\n",
      "[5050]\ttrain-auc:0.960651\tvalid-auc:0.859482\n",
      "[5100]\ttrain-auc:0.96076\tvalid-auc:0.859526\n",
      "[5150]\ttrain-auc:0.960807\tvalid-auc:0.859566\n",
      "[5200]\ttrain-auc:0.960919\tvalid-auc:0.859648\n",
      "[5250]\ttrain-auc:0.961083\tvalid-auc:0.859792\n",
      "[5300]\ttrain-auc:0.96124\tvalid-auc:0.859924\n",
      "[5350]\ttrain-auc:0.961321\tvalid-auc:0.859988\n",
      "[5400]\ttrain-auc:0.961517\tvalid-auc:0.860118\n",
      "[5450]\ttrain-auc:0.961612\tvalid-auc:0.860156\n",
      "[5500]\ttrain-auc:0.961723\tvalid-auc:0.860256\n",
      "[5550]\ttrain-auc:0.961893\tvalid-auc:0.860369\n",
      "[5600]\ttrain-auc:0.962022\tvalid-auc:0.860538\n",
      "[5650]\ttrain-auc:0.962148\tvalid-auc:0.860674\n",
      "[5700]\ttrain-auc:0.962219\tvalid-auc:0.86074\n",
      "[5750]\ttrain-auc:0.962398\tvalid-auc:0.860933\n",
      "[5800]\ttrain-auc:0.962542\tvalid-auc:0.86106\n",
      "[5850]\ttrain-auc:0.96267\tvalid-auc:0.861183\n",
      "[5900]\ttrain-auc:0.962799\tvalid-auc:0.861316\n",
      "[5950]\ttrain-auc:0.962972\tvalid-auc:0.861506\n",
      "[6000]\ttrain-auc:0.96309\tvalid-auc:0.861585\n",
      "[6050]\ttrain-auc:0.96318\tvalid-auc:0.861692\n",
      "[6100]\ttrain-auc:0.96326\tvalid-auc:0.861733\n",
      "[6150]\ttrain-auc:0.963357\tvalid-auc:0.861796\n",
      "[6200]\ttrain-auc:0.963385\tvalid-auc:0.861778\n",
      "[6250]\ttrain-auc:0.963433\tvalid-auc:0.861816\n",
      "[6300]\ttrain-auc:0.963488\tvalid-auc:0.861846\n",
      "[6350]\ttrain-auc:0.963687\tvalid-auc:0.861991\n",
      "[6400]\ttrain-auc:0.963739\tvalid-auc:0.861987\n",
      "[6450]\ttrain-auc:0.963879\tvalid-auc:0.862106\n",
      "[6500]\ttrain-auc:0.963972\tvalid-auc:0.862134\n",
      "[6550]\ttrain-auc:0.964022\tvalid-auc:0.862173\n",
      "[6600]\ttrain-auc:0.964125\tvalid-auc:0.862248\n",
      "[6650]\ttrain-auc:0.964291\tvalid-auc:0.862361\n",
      "[6700]\ttrain-auc:0.964376\tvalid-auc:0.862418\n",
      "[6750]\ttrain-auc:0.964459\tvalid-auc:0.862502\n",
      "[6800]\ttrain-auc:0.964499\tvalid-auc:0.86255\n",
      "[6850]\ttrain-auc:0.964687\tvalid-auc:0.86268\n",
      "[6900]\ttrain-auc:0.964732\tvalid-auc:0.862762\n",
      "[6950]\ttrain-auc:0.964818\tvalid-auc:0.862834\n",
      "[7000]\ttrain-auc:0.964883\tvalid-auc:0.862891\n",
      "[7050]\ttrain-auc:0.964995\tvalid-auc:0.863076\n",
      "[7100]\ttrain-auc:0.965154\tvalid-auc:0.863181\n",
      "[7150]\ttrain-auc:0.965214\tvalid-auc:0.863257\n",
      "[7200]\ttrain-auc:0.965333\tvalid-auc:0.863361\n",
      "[7250]\ttrain-auc:0.965415\tvalid-auc:0.863449\n",
      "[7300]\ttrain-auc:0.96551\tvalid-auc:0.863485\n",
      "[7350]\ttrain-auc:0.965609\tvalid-auc:0.863552\n",
      "[7400]\ttrain-auc:0.96567\tvalid-auc:0.863612\n",
      "[7450]\ttrain-auc:0.965707\tvalid-auc:0.863675\n",
      "[7500]\ttrain-auc:0.965793\tvalid-auc:0.863761\n",
      "[7550]\ttrain-auc:0.965881\tvalid-auc:0.863812\n",
      "[7600]\ttrain-auc:0.965957\tvalid-auc:0.863883\n",
      "[7650]\ttrain-auc:0.966099\tvalid-auc:0.863968\n",
      "[7700]\ttrain-auc:0.966131\tvalid-auc:0.864039\n",
      "[7750]\ttrain-auc:0.966205\tvalid-auc:0.864094\n",
      "[7800]\ttrain-auc:0.966279\tvalid-auc:0.864139\n",
      "[7850]\ttrain-auc:0.966339\tvalid-auc:0.864156\n",
      "[7900]\ttrain-auc:0.966429\tvalid-auc:0.864242\n",
      "[7950]\ttrain-auc:0.966486\tvalid-auc:0.86425\n",
      "[8000]\ttrain-auc:0.966603\tvalid-auc:0.86444\n",
      "[8050]\ttrain-auc:0.966691\tvalid-auc:0.864465\n",
      "[8100]\ttrain-auc:0.966822\tvalid-auc:0.864554\n",
      "[8150]\ttrain-auc:0.966905\tvalid-auc:0.8646\n",
      "[8200]\ttrain-auc:0.966953\tvalid-auc:0.864619\n",
      "[8250]\ttrain-auc:0.967014\tvalid-auc:0.864714\n",
      "[8300]\ttrain-auc:0.967043\tvalid-auc:0.864744\n",
      "[8350]\ttrain-auc:0.967117\tvalid-auc:0.864814\n",
      "[8400]\ttrain-auc:0.967174\tvalid-auc:0.864848\n",
      "[8450]\ttrain-auc:0.967194\tvalid-auc:0.864887\n",
      "[8500]\ttrain-auc:0.967266\tvalid-auc:0.865013\n",
      "[8550]\ttrain-auc:0.967268\tvalid-auc:0.865018\n",
      "[8600]\ttrain-auc:0.967352\tvalid-auc:0.865091\n",
      "[8650]\ttrain-auc:0.967357\tvalid-auc:0.865107\n",
      "[8700]\ttrain-auc:0.967423\tvalid-auc:0.865157\n",
      "[8750]\ttrain-auc:0.967448\tvalid-auc:0.865208\n",
      "[8800]\ttrain-auc:0.967558\tvalid-auc:0.865246\n",
      "[8850]\ttrain-auc:0.967623\tvalid-auc:0.865377\n",
      "[8900]\ttrain-auc:0.967668\tvalid-auc:0.865456\n",
      "[8950]\ttrain-auc:0.967746\tvalid-auc:0.865496\n",
      "[9000]\ttrain-auc:0.967767\tvalid-auc:0.865487\n"
     ]
    },
    {
     "name": "stdout",
     "output_type": "stream",
     "text": [
      "[9050]\ttrain-auc:0.967838\tvalid-auc:0.865541\n",
      "[9100]\ttrain-auc:0.96789\tvalid-auc:0.865641\n",
      "[9150]\ttrain-auc:0.967918\tvalid-auc:0.865659\n",
      "[9200]\ttrain-auc:0.968013\tvalid-auc:0.86571\n",
      "[9250]\ttrain-auc:0.968078\tvalid-auc:0.865755\n",
      "[9300]\ttrain-auc:0.968103\tvalid-auc:0.865773\n",
      "[9350]\ttrain-auc:0.968169\tvalid-auc:0.865838\n",
      "[9400]\ttrain-auc:0.96824\tvalid-auc:0.86595\n",
      "[9450]\ttrain-auc:0.968301\tvalid-auc:0.865984\n",
      "[9500]\ttrain-auc:0.968312\tvalid-auc:0.865999\n",
      "[9550]\ttrain-auc:0.968377\tvalid-auc:0.866035\n",
      "[9600]\ttrain-auc:0.968434\tvalid-auc:0.866096\n",
      "[9650]\ttrain-auc:0.968484\tvalid-auc:0.866119\n",
      "[9700]\ttrain-auc:0.968515\tvalid-auc:0.866124\n",
      "[9750]\ttrain-auc:0.968549\tvalid-auc:0.86615\n",
      "[9800]\ttrain-auc:0.968586\tvalid-auc:0.866154\n",
      "[9850]\ttrain-auc:0.968637\tvalid-auc:0.866248\n",
      "[9900]\ttrain-auc:0.968651\tvalid-auc:0.866272\n",
      "[9950]\ttrain-auc:0.968719\tvalid-auc:0.866366\n",
      "[10000]\ttrain-auc:0.968762\tvalid-auc:0.866396\n",
      "[10050]\ttrain-auc:0.968821\tvalid-auc:0.866464\n",
      "[10100]\ttrain-auc:0.968841\tvalid-auc:0.866469\n",
      "[10150]\ttrain-auc:0.968906\tvalid-auc:0.866556\n",
      "[10200]\ttrain-auc:0.968984\tvalid-auc:0.866607\n",
      "[10250]\ttrain-auc:0.969009\tvalid-auc:0.866646\n",
      "[10300]\ttrain-auc:0.969071\tvalid-auc:0.866677\n",
      "[10350]\ttrain-auc:0.96912\tvalid-auc:0.86669\n",
      "[10400]\ttrain-auc:0.969173\tvalid-auc:0.866791\n",
      "[10450]\ttrain-auc:0.969232\tvalid-auc:0.866839\n",
      "[10500]\ttrain-auc:0.969349\tvalid-auc:0.866906\n",
      "[10550]\ttrain-auc:0.969402\tvalid-auc:0.866914\n",
      "[10600]\ttrain-auc:0.969414\tvalid-auc:0.866937\n",
      "[10650]\ttrain-auc:0.969426\tvalid-auc:0.866943\n",
      "[10700]\ttrain-auc:0.969452\tvalid-auc:0.866966\n",
      "[10750]\ttrain-auc:0.969488\tvalid-auc:0.86701\n",
      "[10800]\ttrain-auc:0.969504\tvalid-auc:0.867025\n",
      "[10850]\ttrain-auc:0.969503\tvalid-auc:0.867027\n",
      "[10900]\ttrain-auc:0.969536\tvalid-auc:0.867033\n",
      "[10950]\ttrain-auc:0.969557\tvalid-auc:0.867048\n",
      "[11000]\ttrain-auc:0.969625\tvalid-auc:0.867126\n",
      "[11050]\ttrain-auc:0.969663\tvalid-auc:0.867147\n",
      "[11100]\ttrain-auc:0.969801\tvalid-auc:0.867323\n",
      "[11150]\ttrain-auc:0.969865\tvalid-auc:0.867414\n",
      "[11200]\ttrain-auc:0.969889\tvalid-auc:0.867435\n",
      "[11250]\ttrain-auc:0.969917\tvalid-auc:0.867479\n",
      "[11300]\ttrain-auc:0.969959\tvalid-auc:0.867523\n",
      "[11350]\ttrain-auc:0.969982\tvalid-auc:0.867556\n",
      "[11400]\ttrain-auc:0.970051\tvalid-auc:0.867611\n",
      "[11450]\ttrain-auc:0.970089\tvalid-auc:0.867633\n",
      "[11500]\ttrain-auc:0.970137\tvalid-auc:0.867702\n",
      "[11550]\ttrain-auc:0.970157\tvalid-auc:0.867708\n",
      "[11600]\ttrain-auc:0.970161\tvalid-auc:0.867746\n",
      "[11650]\ttrain-auc:0.970195\tvalid-auc:0.867782\n",
      "[11700]\ttrain-auc:0.970247\tvalid-auc:0.86781\n",
      "[11750]\ttrain-auc:0.9703\tvalid-auc:0.867865\n",
      "[11800]\ttrain-auc:0.970316\tvalid-auc:0.867869\n",
      "[11850]\ttrain-auc:0.970344\tvalid-auc:0.867901\n",
      "[11900]\ttrain-auc:0.970362\tvalid-auc:0.867947\n",
      "[11950]\ttrain-auc:0.970424\tvalid-auc:0.867988\n",
      "[12000]\ttrain-auc:0.970467\tvalid-auc:0.868023\n",
      "[12050]\ttrain-auc:0.970488\tvalid-auc:0.868047\n",
      "[12100]\ttrain-auc:0.970505\tvalid-auc:0.868043\n",
      "[12150]\ttrain-auc:0.970586\tvalid-auc:0.868096\n",
      "[12200]\ttrain-auc:0.97061\tvalid-auc:0.868102\n",
      "[12250]\ttrain-auc:0.97062\tvalid-auc:0.868155\n",
      "[12300]\ttrain-auc:0.970688\tvalid-auc:0.868186\n",
      "[12350]\ttrain-auc:0.970733\tvalid-auc:0.86822\n",
      "[12400]\ttrain-auc:0.970841\tvalid-auc:0.868341\n",
      "[12450]\ttrain-auc:0.970862\tvalid-auc:0.868376\n",
      "[12500]\ttrain-auc:0.97086\tvalid-auc:0.868377\n",
      "[12550]\ttrain-auc:0.970906\tvalid-auc:0.868427\n",
      "[12600]\ttrain-auc:0.970892\tvalid-auc:0.868408\n",
      "[12650]\ttrain-auc:0.97095\tvalid-auc:0.868509\n",
      "[12700]\ttrain-auc:0.97102\tvalid-auc:0.868549\n",
      "[12750]\ttrain-auc:0.971044\tvalid-auc:0.868585\n",
      "[12800]\ttrain-auc:0.971083\tvalid-auc:0.868623\n",
      "[12850]\ttrain-auc:0.971104\tvalid-auc:0.86864\n",
      "[12900]\ttrain-auc:0.971167\tvalid-auc:0.868672\n",
      "[12950]\ttrain-auc:0.971202\tvalid-auc:0.868723\n",
      "[13000]\ttrain-auc:0.971282\tvalid-auc:0.868783\n",
      "[13050]\ttrain-auc:0.971282\tvalid-auc:0.868767\n",
      "[13100]\ttrain-auc:0.971336\tvalid-auc:0.868818\n",
      "[13150]\ttrain-auc:0.971395\tvalid-auc:0.868856\n",
      "[13200]\ttrain-auc:0.97143\tvalid-auc:0.868973\n",
      "[13250]\ttrain-auc:0.97154\tvalid-auc:0.869048\n",
      "[13300]\ttrain-auc:0.971553\tvalid-auc:0.869028\n",
      "[13350]\ttrain-auc:0.971571\tvalid-auc:0.869035\n",
      "[13400]\ttrain-auc:0.971618\tvalid-auc:0.869049\n",
      "[13450]\ttrain-auc:0.971667\tvalid-auc:0.869088\n",
      "[13500]\ttrain-auc:0.971716\tvalid-auc:0.869151\n",
      "[13550]\ttrain-auc:0.971748\tvalid-auc:0.869167\n",
      "[13600]\ttrain-auc:0.971766\tvalid-auc:0.869176\n",
      "[13650]\ttrain-auc:0.971794\tvalid-auc:0.869247\n",
      "[13700]\ttrain-auc:0.971819\tvalid-auc:0.869285\n",
      "[13750]\ttrain-auc:0.971845\tvalid-auc:0.869286\n",
      "[13800]\ttrain-auc:0.97187\tvalid-auc:0.869288\n",
      "[13850]\ttrain-auc:0.971909\tvalid-auc:0.869284\n",
      "[13900]\ttrain-auc:0.971918\tvalid-auc:0.86931\n",
      "[13950]\ttrain-auc:0.971943\tvalid-auc:0.8693\n",
      "[14000]\ttrain-auc:0.97195\tvalid-auc:0.869304\n",
      "[14050]\ttrain-auc:0.971983\tvalid-auc:0.869327\n",
      "[14100]\ttrain-auc:0.972019\tvalid-auc:0.869337\n",
      "[14150]\ttrain-auc:0.972072\tvalid-auc:0.869365\n",
      "[14200]\ttrain-auc:0.972071\tvalid-auc:0.869361\n",
      "[14250]\ttrain-auc:0.972092\tvalid-auc:0.869457\n",
      "[14300]\ttrain-auc:0.972114\tvalid-auc:0.86947\n",
      "[14350]\ttrain-auc:0.972132\tvalid-auc:0.869483\n",
      "[14400]\ttrain-auc:0.972161\tvalid-auc:0.869492\n",
      "[14450]\ttrain-auc:0.972158\tvalid-auc:0.869472\n",
      "[14500]\ttrain-auc:0.972162\tvalid-auc:0.869468\n",
      "Stopping. Best iteration:\n",
      "[14305]\ttrain-auc:0.972127\tvalid-auc:0.869501\n",
      "\n"
     ]
    }
   ],
   "source": [
    "watchlist = [(xgb.DMatrix(X_train, y_train), 'train'), (xgb.DMatrix(X_test, y_test), 'valid')]\n",
    "model = xgb.train(params, xgb.DMatrix(X_train, y_train), 20000,  watchlist, feval=None, maximize=True, verbose_eval=50, early_stopping_rounds=200)\n"
   ]
  },
  {
   "cell_type": "code",
   "execution_count": 51,
   "metadata": {},
   "outputs": [
    {
     "name": "stdout",
     "output_type": "stream",
     "text": [
      "xgb_test_roc_auc_score = 0.8694829199349643\n"
     ]
    }
   ],
   "source": [
    "#prediction = model.predict(xgb.DMatrix(X_test), ntree_limit=model.best_ntree_limit+45)\n",
    "xgb_test_roc_auc_score = roc_auc_score(y_test, model.predict(xgb.DMatrix(X_test), ntree_limit=model.best_ntree_limit+45))\n",
    "\n",
    "print (\"xgb_test_roc_auc_score =\", xgb_test_roc_auc_score)"
   ]
  },
  {
   "cell_type": "code",
   "execution_count": 54,
   "metadata": {},
   "outputs": [],
   "source": [
    "test['TARGET'] = model.predict(xgb.DMatrix(test), ntree_limit=model.best_ntree_limit+45)\n",
    "\n",
    "test[['ID','TARGET']].to_csv('SydorykYurii_2.txt', index=False, float_format='%.1f')"
   ]
  },
  {
   "cell_type": "code",
   "execution_count": null,
   "metadata": {},
   "outputs": [],
   "source": []
  }
 ],
 "metadata": {
  "kernelspec": {
   "display_name": "Python (tpot)",
   "language": "python",
   "name": "tpot"
  },
  "language_info": {
   "codemirror_mode": {
    "name": "ipython",
    "version": 3
   },
   "file_extension": ".py",
   "mimetype": "text/x-python",
   "name": "python",
   "nbconvert_exporter": "python",
   "pygments_lexer": "ipython3",
   "version": "3.7.1"
  }
 },
 "nbformat": 4,
 "nbformat_minor": 2
}
